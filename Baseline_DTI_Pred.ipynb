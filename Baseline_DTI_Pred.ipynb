{
  "nbformat": 4,
  "nbformat_minor": 0,
  "metadata": {
    "colab": {
      "name": "Baseline_DTI-Pred.ipynb",
      "version": "0.3.2",
      "provenance": [],
      "collapsed_sections": [],
      "include_colab_link": true
    },
    "kernelspec": {
      "name": "python3",
      "display_name": "Python 3"
    },
    "accelerator": "TPU"
  },
  "cells": [
    {
      "cell_type": "markdown",
      "metadata": {
        "id": "view-in-github",
        "colab_type": "text"
      },
      "source": [
        "<a href=\"https://colab.research.google.com/github/devishi/CF_Project/blob/master/Baseline_DTI_Pred.ipynb\" target=\"_parent\"><img src=\"https://colab.research.google.com/assets/colab-badge.svg\" alt=\"Open In Colab\"/></a>"
      ]
    },
    {
      "metadata": {
        "id": "WAQ64P8An722",
        "colab_type": "code",
        "colab": {}
      },
      "cell_type": "code",
      "source": [
        "from google.colab import drive\n",
        "drive.mount('/content/drive')"
      ],
      "execution_count": 0,
      "outputs": []
    },
    {
      "metadata": {
        "id": "FgbQOpiroG73",
        "colab_type": "code",
        "colab": {}
      },
      "cell_type": "code",
      "source": [
        "cd drive/My Drive/Colab Notebooks/CF_Project"
      ],
      "execution_count": 0,
      "outputs": []
    },
    {
      "metadata": {
        "id": "crpwN6XIoQwf",
        "colab_type": "code",
        "colab": {}
      },
      "cell_type": "code",
      "source": [
        "!pip3 install surprise"
      ],
      "execution_count": 0,
      "outputs": []
    },
    {
      "metadata": {
        "id": "v2rj4RiBoXHb",
        "colab_type": "code",
        "colab": {}
      },
      "cell_type": "code",
      "source": [
        "import time\n",
        "import scipy.io as sio\n",
        "import numpy as np\n",
        "import random\n",
        "import pandas as pd\n",
        "import math\n",
        "from math import sqrt\n",
        "from pandas import DataFrame\n",
        "from numpy import mean\n",
        "\n",
        "from sklearn import metrics, preprocessing, dummy\n",
        "from sklearn.model_selection import train_test_split, KFold\n",
        "from sklearn.svm import SVC\n",
        "from sklearn.preprocessing import Imputer, MinMaxScaler\n",
        "from sklearn.ensemble import RandomForestClassifier as RF, AdaBoostClassifier as AB\n",
        "from sklearn.cross_validation import cross_val_score as CV, StratifiedShuffleSplit\n",
        "from sklearn.metrics import mean_squared_error, mean_absolute_error, accuracy_score, confusion_matrix\n",
        "\n",
        "\n",
        "from operator import itemgetter\n",
        "from surprise import Reader\n",
        "from surprise import SVD\n",
        "from surprise import Dataset\n",
        "from surprise.model_selection import cross_validate\n",
        "from surprise import NormalPredictor"
      ],
      "execution_count": 0,
      "outputs": []
    },
    {
      "metadata": {
        "id": "6OxWIFABrlru",
        "colab_type": "text"
      },
      "cell_type": "markdown",
      "source": [
        "Read Labels"
      ]
    },
    {
      "metadata": {
        "id": "cFQfJNTPoaJs",
        "colab_type": "code",
        "colab": {}
      },
      "cell_type": "code",
      "source": [
        "train1 = ['rating', 'user1', 'user2']\n",
        "train_label = pd.read_csv('EH-training-labels.csv', sep=',', names=train1, encoding='latin-1', header = None)\n",
        "test1 = ['rating', 'user1', 'user2']\n",
        "test_label = pd.read_csv('EH-testing-labels.csv', sep=',', names=test1, encoding='latin-1', header = None)"
      ],
      "execution_count": 0,
      "outputs": []
    },
    {
      "metadata": {
        "id": "phOc7TdurinE",
        "colab_type": "text"
      },
      "cell_type": "markdown",
      "source": [
        "Read Features"
      ]
    },
    {
      "metadata": {
        "id": "ikY8-cDjqfwq",
        "colab_type": "code",
        "colab": {}
      },
      "cell_type": "code",
      "source": [
        "train_features = pd.read_csv('EH-training-data.csv', sep=',', encoding='latin-1', header = None)\n",
        "test_features = pd.read_csv('EH-testing-data.csv', sep=',', encoding='latin-1', header = None)"
      ],
      "execution_count": 0,
      "outputs": []
    },
    {
      "metadata": {
        "id": "4qd4dRLvrh0Z",
        "colab_type": "code",
        "colab": {}
      },
      "cell_type": "code",
      "source": [
        "df = pd.DataFrame(train_label)\n",
        "\n",
        "# A reader is still needed but only the rating_scale param is requiered.\n",
        "reader = Reader(rating_scale=(0, 1))\n",
        "train1 = ['user1', 'user2', 'rating']\n",
        "df = df[train1]\n",
        "# The columns must correspond to user id, item id and ratings (in that order).\n",
        "data = Dataset.load_from_df(df[['user1', 'user2', 'rating']], reader)"
      ],
      "execution_count": 0,
      "outputs": []
    },
    {
      "metadata": {
        "id": "g0wEicBELK_w",
        "colab_type": "text"
      },
      "cell_type": "markdown",
      "source": [
        "**The 3 baseline algorithms used as a part of th Surprise package**"
      ]
    },
    {
      "metadata": {
        "id": "Z4rHKyTENc-S",
        "colab_type": "text"
      },
      "cell_type": "markdown",
      "source": [
        "SVD Algorithm"
      ]
    },
    {
      "metadata": {
        "id": "OfTHwLNtLKty",
        "colab_type": "code",
        "outputId": "e31e8111-5508-4eb2-9fa4-32c429622d41",
        "colab": {
          "base_uri": "https://localhost:8080/",
          "height": 221
        }
      },
      "cell_type": "code",
      "source": [
        "from surprise import SVD\n",
        "cross_validate(SVD(), data, cv=5)"
      ],
      "execution_count": 0,
      "outputs": [
        {
          "output_type": "execute_result",
          "data": {
            "text/plain": [
              "{'fit_time': (39.474026918411255,\n",
              "  40.0351836681366,\n",
              "  39.750672817230225,\n",
              "  39.60735297203064,\n",
              "  39.92824125289917),\n",
              " 'test_mae': array([0.21349853, 0.21373741, 0.21484803, 0.21470225, 0.21404684]),\n",
              " 'test_rmse': array([0.33564875, 0.33577263, 0.3380962 , 0.33712515, 0.33642154]),\n",
              " 'test_time': (1.278069019317627,\n",
              "  1.2538127899169922,\n",
              "  1.2632677555084229,\n",
              "  1.2543981075286865,\n",
              "  0.9666924476623535)}"
            ]
          },
          "metadata": {
            "tags": []
          },
          "execution_count": 28
        }
      ]
    },
    {
      "metadata": {
        "id": "bKOCkwDnNibS",
        "colab_type": "text"
      },
      "cell_type": "markdown",
      "source": [
        "Non-Negative Matrix Factorisation"
      ]
    },
    {
      "metadata": {
        "id": "_R7Vb_-7NGZM",
        "colab_type": "code",
        "outputId": "22f26e75-9b83-45e2-891a-aa169a05cb44",
        "colab": {
          "base_uri": "https://localhost:8080/",
          "height": 221
        }
      },
      "cell_type": "code",
      "source": [
        "from surprise import NMF\n",
        "cross_validate(NMF(), data, cv=5)"
      ],
      "execution_count": 0,
      "outputs": [
        {
          "output_type": "execute_result",
          "data": {
            "text/plain": [
              "{'fit_time': (59.71754860877991,\n",
              "  59.99049210548401,\n",
              "  60.202138900756836,\n",
              "  60.95259618759155,\n",
              "  60.08173108100891),\n",
              " 'test_mae': array([0.17997403, 0.17940758, 0.18050502, 0.17939329, 0.18006819]),\n",
              " 'test_rmse': array([0.3412432 , 0.34054614, 0.3418656 , 0.33989704, 0.34187166]),\n",
              " 'test_time': (1.19136643409729,\n",
              "  0.8434107303619385,\n",
              "  0.858839750289917,\n",
              "  1.1541829109191895,\n",
              "  1.1682100296020508)}"
            ]
          },
          "metadata": {
            "tags": []
          },
          "execution_count": 29
        }
      ]
    },
    {
      "metadata": {
        "id": "NBTzuStlNlwj",
        "colab_type": "text"
      },
      "cell_type": "markdown",
      "source": [
        "Normal predictor based on user item based method"
      ]
    },
    {
      "metadata": {
        "id": "ka5T4l6oNQ1D",
        "colab_type": "code",
        "outputId": "a435c76c-927f-4197-a606-ac395760be7f",
        "colab": {
          "base_uri": "https://localhost:8080/",
          "height": 221
        }
      },
      "cell_type": "code",
      "source": [
        "cross_validate(NormalPredictor(), data, cv=5)"
      ],
      "execution_count": 0,
      "outputs": [
        {
          "output_type": "execute_result",
          "data": {
            "text/plain": [
              "{'fit_time': (0.6336076259613037,\n",
              "  0.8408927917480469,\n",
              "  0.8551182746887207,\n",
              "  0.8374414443969727,\n",
              "  0.8400321006774902),\n",
              " 'test_mae': array([0.27348941, 0.27599809, 0.27484957, 0.27556959, 0.27617821]),\n",
              " 'test_rmse': array([0.40785794, 0.40971539, 0.40896619, 0.40982819, 0.40974033]),\n",
              " 'test_time': (1.2137830257415771,\n",
              "  1.140387773513794,\n",
              "  1.152226209640503,\n",
              "  1.154350757598877,\n",
              "  1.1366682052612305)}"
            ]
          },
          "metadata": {
            "tags": []
          },
          "execution_count": 30
        }
      ]
    },
    {
      "metadata": {
        "id": "6UObjOfiZbjH",
        "colab_type": "text"
      },
      "cell_type": "markdown",
      "source": [
        "DTI - Pred"
      ]
    },
    {
      "metadata": {
        "id": "ZVRO56NTWmA3",
        "colab_type": "text"
      },
      "cell_type": "markdown",
      "source": [
        "Since the data was too huge the loading was taking too much time even on a TPU hence the data was reduced to half"
      ]
    },
    {
      "metadata": {
        "id": "9OtwRrCZvcBX",
        "colab_type": "code",
        "colab": {}
      },
      "cell_type": "code",
      "source": [
        "s0 = [train_label.iloc[0,0]]\n",
        "s0.extend(train_features.iloc[train_label.iloc[0,1] - 1, 1:].tolist())\n",
        "s0.extend(train_features.iloc[train_label.iloc[0,2] - 1, 1:].tolist())\n",
        "data = [s0]\n",
        "train = pd.DataFrame(data)\n",
        "ltrain = [0]\n",
        "for j in range(1, 30000):\n",
        "  t = 0\n",
        "  while(t!=1):\n",
        "    d = random.randint(1, len(train_label))\n",
        "    if d not in ltrain:\n",
        "      t = 1\n",
        "      i = d\n",
        "  s0 = [train_label.iloc[i,0]]\n",
        "  s0.extend(train_features.iloc[train_label.iloc[i,1] - 1, 1:].tolist())\n",
        "  s0.extend(train_features.iloc[train_label.iloc[i,2] - 1, 1:].tolist())\n",
        "  data = [s0]\n",
        "  train = train.append(data)"
      ],
      "execution_count": 0,
      "outputs": []
    },
    {
      "metadata": {
        "id": "ZxpQkOaKWMT9",
        "colab_type": "code",
        "colab": {}
      },
      "cell_type": "code",
      "source": [
        "s0 = [test_label.iloc[0,0]]\n",
        "s0.extend(test_features.iloc[test_label.iloc[0,1] - 1, 1:].tolist())\n",
        "s0.extend(test_features.iloc[test_label.iloc[0,2] - 1, 1:].tolist())\n",
        "data = [s0]\n",
        "test = pd.DataFrame(data)\n",
        "ltrain = [0]\n",
        "for j in range(1, 30000):\n",
        "  t = 0\n",
        "  while(t!=1):\n",
        "    d = random.randint(1, len(test_label))\n",
        "    if d not in ltrain:\n",
        "      t = 1\n",
        "      i = d\n",
        "  s0 = [test_label.iloc[i,0]]\n",
        "  s0.extend(test_features.iloc[test_label.iloc[i,1] - 1, 1:].tolist())\n",
        "  s0.extend(test_features.iloc[test_label.iloc[i,2] - 1, 1:].tolist())\n",
        "  data = [s0]\n",
        "  test = test.append(data)"
      ],
      "execution_count": 0,
      "outputs": []
    },
    {
      "metadata": {
        "id": "RJ3WNBVJTGjm",
        "colab_type": "code",
        "colab": {}
      },
      "cell_type": "code",
      "source": [
        "start = time.time()"
      ],
      "execution_count": 0,
      "outputs": []
    },
    {
      "metadata": {
        "id": "zK3a9XX7e9lb",
        "colab_type": "code",
        "colab": {}
      },
      "cell_type": "code",
      "source": [
        "def classifier(train,test):\n",
        "    print(\"Preprocessing data...\")\n",
        "    print ('Train set', train.shape) \n",
        "    train_y = train.iloc[:,0]\n",
        "    train = train.iloc[:,1:]\n",
        "\n",
        "    print ('Full Test: ', test.shape) \n",
        "    test = test.dropna()\n",
        "    test_y = test.iloc[:,0]\n",
        "    test = test.iloc[:,1:]\n",
        "\n",
        "    ### Normalization and scaling steps ###\n",
        "    scaler = MinMaxScaler(feature_range=(-1,1))\n",
        "\n",
        "    train = preprocessing.normalize(train)\n",
        "    test = preprocessing.normalize(test)\n",
        "\n",
        "    ### Cross Validation parameters ###\n",
        "    state = 'y' # 'y' to perform cross validation, anything else to skip\n",
        "    n_folds = 5 # desired number of folds\n",
        "    n_features = 116\n",
        "\n",
        "    if state == 'y':\n",
        "        ### Construct and fit classifiers ###\n",
        "        forest = RF(n_estimators = 150, max_features = n_features, n_jobs = -1, max_depth = None, oob_score = True)\n",
        "        elapsed = time.time() - start\n",
        "        print(\"\\nTime elapsed: \" + str(int(elapsed/60)) + \" minutes.\")\n",
        "        print('\\nCross-validating classification with ' + str(n_folds) + ' folds...')\n",
        "        elapsed = time.time() - start\n",
        "        print(\"\\nTime elapsed: \" + str(int(elapsed/60)) + \" minutes.\")\n",
        "        scores = CV(forest, train, train_y, cv=n_folds, n_jobs=-1, scoring='roc_auc')\n",
        "        print(\"CV Scores: \")\n",
        "        for i in scores:\n",
        "            print (i)\n",
        "        print('RF Cross-validation RMSE: %0.2f (+/- %0.2f)' % (scores.mean(), scores.std() * 2))\n",
        "        elapsed = time.time() - start\n",
        "        print(\"\\nTime elapsed: \" + str(int(elapsed/60)) + \" minutes.\")\n",
        "        print('RF CROSS-VALIDATION RESULTS (' + str(n_folds) + ' folds):\\n')\n",
        "        print('AUC: %0.2f (+/- %0.2f)\\n' % (scores.mean(), scores.std() * 2))\n",
        "        print(\"\\nFitting Classifiers...\")\n",
        "        forest = forest.fit(train, train_y)\n",
        "    else:\n",
        "        ### Construct and fit classifiers ###\n",
        "        forest = RF(n_estimators = 150, max_features = n_features, n_jobs = -1, max_depth = None, oob_score = True)\n",
        "        elapsed = time.time() - start\n",
        "        print(\"\\nTime elapsed: \" + str(int(elapsed/60)) + \" minutes.\")\n",
        "        print(\"Fitting Classifiers...\")\n",
        "        forest = forest.fit(train, train_y)\n",
        "        print (forest.score(train, train_y))\n",
        "        print('RF training score: %s\\n\\n' % (forest.score(train, train_y)))\n",
        "        # dummy_clf = dummy.DummyClassifier(strategy='stratified')\n",
        "        # dummy_clf = dummy_clf.fit(train, train_y)\n",
        "        elapsed = time.time() - start\n",
        "        print(\"\\nTime elapsed: \" + str(int(elapsed/60)) + \" minutes.\")\n",
        "    \n",
        "    ### Perform predictions on test data ###\n",
        "    print('\\nClassifying external validation set...')\n",
        "    elapsed = time.time() - start\n",
        "    print(\"\\nTime elapsed: \" + str(int(elapsed/60)) + \" minutes.\")\n",
        "\n",
        "    rf_drugbank_pred = forest.predict(test)\n",
        "    rms = sqrt(mean_squared_error(test_y, rf_drugbank_pred))\n",
        "    print( \"RMSE: \", rms)\n",
        "    print(\"MAE: \",mae(test_y, rf_drugbank_pred))\n",
        "    fpr, tpr, thresholds = metrics.roc_curve(test_y, rf_drugbank_pred, pos_label=1)\n",
        "    cm = confusion_matrix(test_y, rf_drugbank_pred)\n",
        "    auc = metrics.auc(fpr, tpr)\n",
        "\n",
        "    print('\\nRF DrugBank EXTERNAL VALIDATION RESULTS\\nAUC: %s\\n' % auc)\n",
        "    print(cm)"
      ],
      "execution_count": 0,
      "outputs": []
    },
    {
      "metadata": {
        "id": "yIW2agP6x1KP",
        "colab_type": "code",
        "colab": {}
      },
      "cell_type": "code",
      "source": [
        "def mae(ground_truth, prediction):\n",
        "    d = float(mean(ground_truth)*mean(prediction))\n",
        "    return (float(mean_absolute_error(ground_truth, prediction)))"
      ],
      "execution_count": 0,
      "outputs": []
    },
    {
      "metadata": {
        "id": "SCm0Y-pHafgU",
        "colab_type": "code",
        "outputId": "904426b3-431e-4bcf-fc95-818f32c04df3",
        "colab": {
          "base_uri": "https://localhost:8080/",
          "height": 629
        }
      },
      "cell_type": "code",
      "source": [
        "classifier(train, test)"
      ],
      "execution_count": 0,
      "outputs": [
        {
          "output_type": "stream",
          "text": [
            "Preprocessing data...\n",
            "Train set (30000, 117)\n",
            "Full Test:  (30000, 117)\n",
            "\n",
            "Time elapsed: 0 minutes.\n",
            "\n",
            "Cross-validating classification with 5 folds...\n",
            "\n",
            "Time elapsed: 0 minutes.\n",
            "CV Scores: \n",
            "0.6410888811926428\n",
            "0.6263587250837221\n",
            "0.6446280075565923\n",
            "0.6411244317328963\n",
            "0.6428140380546234\n",
            "RF Cross-validation RMSE: 0.64 (+/- 0.01)\n",
            "\n",
            "Time elapsed: 28 minutes.\n",
            "RF CROSS-VALIDATION RESULTS (5 folds):\n",
            "\n",
            "AUC: 0.64 (+/- 0.01)\n",
            "\n",
            "\n",
            "Fitting Classifiers...\n",
            "\n",
            "Classifying external validation set...\n",
            "\n",
            "Time elapsed: 36 minutes.\n",
            "RMSE:  0.34813790371058423\n",
            "MAE:  0.1212\n",
            "\n",
            "RF DrugBank EXTERNAL VALIDATION RESULTS\n",
            "AUC: 0.5000730697226489\n",
            "\n",
            "[[26361    18]\n",
            " [ 3618     3]]\n"
          ],
          "name": "stdout"
        }
      ]
    }
  ]
}