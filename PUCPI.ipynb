{
  "nbformat": 4,
  "nbformat_minor": 0,
  "metadata": {
    "colab": {
      "name": "PUCPI.ipynb",
      "version": "0.3.2",
      "provenance": [],
      "collapsed_sections": [],
      "include_colab_link": true
    },
    "kernelspec": {
      "name": "python2",
      "display_name": "Python 2"
    },
    "accelerator": "GPU"
  },
  "cells": [
    {
      "cell_type": "markdown",
      "metadata": {
        "id": "view-in-github",
        "colab_type": "text"
      },
      "source": [
        "<a href=\"https://colab.research.google.com/github/devishi/CF_Project/blob/master/PUCPI.ipynb\" target=\"_parent\"><img src=\"https://colab.research.google.com/assets/colab-badge.svg\" alt=\"Open In Colab\"/></a>"
      ]
    },
    {
      "metadata": {
        "id": "p1QTuAyvmfns",
        "colab_type": "text"
      },
      "cell_type": "markdown",
      "source": [
        "## Data Preprocessing"
      ]
    },
    {
      "metadata": {
        "id": "sRn_GFzBjB8L",
        "colab_type": "code",
        "outputId": "5f46a2c5-3641-44a7-e245-0efc89f14810",
        "colab": {
          "base_uri": "https://localhost:8080/",
          "height": 34
        }
      },
      "cell_type": "code",
      "source": [
        "import numpy as np\n",
        "import pandas as pd\n",
        "import time\n",
        "from pandas import DataFrame\n",
        "from operator import itemgetter\n",
        "from sklearn.preprocessing import Imputer, MinMaxScaler\n",
        "from sklearn.ensemble import RandomForestClassifier as RF\n",
        "from sklearn.ensemble import AdaBoostClassifier as AB\n",
        "from sklearn.cross_validation import cross_val_score as CV\n",
        "from sklearn.cross_validation import StratifiedShuffleSplit\n",
        "from sklearn.metrics import confusion_matrix\n",
        "from sklearn import metrics, preprocessing, dummy\n",
        "print(\"Yo\")"
      ],
      "execution_count": 0,
      "outputs": [
        {
          "output_type": "stream",
          "text": [
            "Yo\n"
          ],
          "name": "stdout"
        }
      ]
    },
    {
      "metadata": {
        "id": "YEqSGhTRmTar",
        "colab_type": "code",
        "outputId": "b8b212da-cbb1-4fdb-fad9-cce224e0e4ec",
        "colab": {
          "base_uri": "https://localhost:8080/",
          "height": 34
        }
      },
      "cell_type": "code",
      "source": [
        "from google.colab import drive\n",
        "drive.mount('/content/drive')"
      ],
      "execution_count": 0,
      "outputs": [
        {
          "output_type": "stream",
          "text": [
            "Drive already mounted at /content/drive; to attempt to forcibly remount, call drive.mount(\"/content/drive\", force_remount=True).\n"
          ],
          "name": "stdout"
        }
      ]
    },
    {
      "metadata": {
        "id": "cRYruEgHmZw8",
        "colab_type": "code",
        "outputId": "e454d10b-b235-4120-c3c4-95227ac219e8",
        "colab": {
          "base_uri": "https://localhost:8080/",
          "height": 85
        }
      },
      "cell_type": "code",
      "source": [
        "%cd drive/My Drive/Colab Notebooks/\n",
        "%cd Assignments_sem7/CF_Project"
      ],
      "execution_count": 0,
      "outputs": [
        {
          "output_type": "stream",
          "text": [
            "[Errno 2] No such file or directory: 'drive/My Drive/Colab Notebooks/'\n",
            "/content/drive/My Drive/Colab Notebooks/Assignments_sem7/CF_Project\n",
            "[Errno 2] No such file or directory: 'Assignments_sem7/CF_Project'\n",
            "/content/drive/My Drive/Colab Notebooks/Assignments_sem7/CF_Project\n"
          ],
          "name": "stdout"
        }
      ]
    },
    {
      "metadata": {
        "id": "kWPvmvqu2EsY",
        "colab_type": "text"
      },
      "cell_type": "markdown",
      "source": [
        "## Data Preprocessing\n",
        "\n",
        "Source of the Dataset : https://github.com/fiatveritas/eHarmony_Project"
      ]
    },
    {
      "metadata": {
        "id": "DyQPEE8mmHv7",
        "colab_type": "code",
        "outputId": "e7e242f1-4b45-461b-ec01-705fb2bb1c15",
        "colab": {
          "base_uri": "https://localhost:8080/",
          "height": 85
        }
      },
      "cell_type": "code",
      "source": [
        "training_data = pd.read_csv(\"EH-training-data.csv\", names = range(0, 59))\n",
        "training_labels = pd.read_csv(\"EH-training-labels.csv\", names = range(0, 3))\n",
        "testing_data = pd.read_csv(\"EH-testing-data.csv\", names = range(0, 59))\n",
        "testing_labels = pd.read_csv(\"EH-testing-labels.csv\", names = range(0, 3))\n",
        "print \"This set has {} training_data points and {} features.\".format(*training_data.shape)\n",
        "print \"This set has {} training_label points and {} features.\".format(*training_labels.shape)\n",
        "print \"This set has {} testing_data points and {} features.\".format(*testing_data.shape)\n",
        "print \"This set has {} testing_label points and {} features.\".format(*testing_labels.shape)\n"
      ],
      "execution_count": 0,
      "outputs": [
        {
          "output_type": "stream",
          "text": [
            "This set has 274654 training_data points and 59 features.\n",
            "This set has 506688 training_label points and 3 features.\n",
            "This set has 211810 testing_data points and 59 features.\n",
            "This set has 439161 testing_label points and 3 features.\n"
          ],
          "name": "stdout"
        }
      ]
    },
    {
      "metadata": {
        "id": "0H9LqiUsM4WD",
        "colab_type": "code",
        "outputId": "c539c496-4aa7-4469-ffe3-dc7e2dcad471",
        "colab": {
          "base_uri": "https://localhost:8080/",
          "height": 250
        }
      },
      "cell_type": "code",
      "source": [
        "# features of the user_data\n",
        "training_data = training_data.truncate(after = 1000)\n",
        "training_data = training_data.drop((0),axis=1)\n",
        "print(training_data.shape)\n",
        "training_data.head()"
      ],
      "execution_count": 0,
      "outputs": [
        {
          "output_type": "stream",
          "text": [
            "(1001, 58)\n"
          ],
          "name": "stdout"
        },
        {
          "output_type": "execute_result",
          "data": {
            "text/html": [
              "<div>\n",
              "<style scoped>\n",
              "    .dataframe tbody tr th:only-of-type {\n",
              "        vertical-align: middle;\n",
              "    }\n",
              "\n",
              "    .dataframe tbody tr th {\n",
              "        vertical-align: top;\n",
              "    }\n",
              "\n",
              "    .dataframe thead th {\n",
              "        text-align: right;\n",
              "    }\n",
              "</style>\n",
              "<table border=\"1\" class=\"dataframe\">\n",
              "  <thead>\n",
              "    <tr style=\"text-align: right;\">\n",
              "      <th></th>\n",
              "      <th>1</th>\n",
              "      <th>2</th>\n",
              "      <th>3</th>\n",
              "      <th>4</th>\n",
              "      <th>5</th>\n",
              "      <th>6</th>\n",
              "      <th>7</th>\n",
              "      <th>8</th>\n",
              "      <th>9</th>\n",
              "      <th>10</th>\n",
              "      <th>...</th>\n",
              "      <th>49</th>\n",
              "      <th>50</th>\n",
              "      <th>51</th>\n",
              "      <th>52</th>\n",
              "      <th>53</th>\n",
              "      <th>54</th>\n",
              "      <th>55</th>\n",
              "      <th>56</th>\n",
              "      <th>57</th>\n",
              "      <th>58</th>\n",
              "    </tr>\n",
              "  </thead>\n",
              "  <tbody>\n",
              "    <tr>\n",
              "      <th>0</th>\n",
              "      <td>2</td>\n",
              "      <td>3</td>\n",
              "      <td>1</td>\n",
              "      <td>1620</td>\n",
              "      <td>26</td>\n",
              "      <td>4</td>\n",
              "      <td>1</td>\n",
              "      <td>2</td>\n",
              "      <td>4</td>\n",
              "      <td>5</td>\n",
              "      <td>...</td>\n",
              "      <td>0</td>\n",
              "      <td>0</td>\n",
              "      <td>0</td>\n",
              "      <td>5</td>\n",
              "      <td>5</td>\n",
              "      <td>7</td>\n",
              "      <td>5</td>\n",
              "      <td>6</td>\n",
              "      <td>-117.9970</td>\n",
              "      <td>33.8005</td>\n",
              "    </tr>\n",
              "    <tr>\n",
              "      <th>1</th>\n",
              "      <td>2</td>\n",
              "      <td>3</td>\n",
              "      <td>200</td>\n",
              "      <td>1720</td>\n",
              "      <td>38</td>\n",
              "      <td>3</td>\n",
              "      <td>2</td>\n",
              "      <td>1</td>\n",
              "      <td>0</td>\n",
              "      <td>2</td>\n",
              "      <td>...</td>\n",
              "      <td>0</td>\n",
              "      <td>0</td>\n",
              "      <td>1</td>\n",
              "      <td>2</td>\n",
              "      <td>6</td>\n",
              "      <td>6</td>\n",
              "      <td>6</td>\n",
              "      <td>5</td>\n",
              "      <td>-73.8584</td>\n",
              "      <td>40.8424</td>\n",
              "    </tr>\n",
              "    <tr>\n",
              "      <th>2</th>\n",
              "      <td>2</td>\n",
              "      <td>3</td>\n",
              "      <td>120</td>\n",
              "      <td>1750</td>\n",
              "      <td>26</td>\n",
              "      <td>3</td>\n",
              "      <td>3</td>\n",
              "      <td>1</td>\n",
              "      <td>0</td>\n",
              "      <td>3</td>\n",
              "      <td>...</td>\n",
              "      <td>0</td>\n",
              "      <td>0</td>\n",
              "      <td>0</td>\n",
              "      <td>4</td>\n",
              "      <td>5</td>\n",
              "      <td>7</td>\n",
              "      <td>5</td>\n",
              "      <td>5</td>\n",
              "      <td>-98.4992</td>\n",
              "      <td>29.6647</td>\n",
              "    </tr>\n",
              "    <tr>\n",
              "      <th>3</th>\n",
              "      <td>1</td>\n",
              "      <td>3</td>\n",
              "      <td>200</td>\n",
              "      <td>1850</td>\n",
              "      <td>39</td>\n",
              "      <td>0</td>\n",
              "      <td>1</td>\n",
              "      <td>2</td>\n",
              "      <td>0</td>\n",
              "      <td>2</td>\n",
              "      <td>...</td>\n",
              "      <td>1</td>\n",
              "      <td>0</td>\n",
              "      <td>0</td>\n",
              "      <td>1</td>\n",
              "      <td>5</td>\n",
              "      <td>6</td>\n",
              "      <td>4</td>\n",
              "      <td>3</td>\n",
              "      <td>-72.4706</td>\n",
              "      <td>42.1729</td>\n",
              "    </tr>\n",
              "    <tr>\n",
              "      <th>4</th>\n",
              "      <td>1</td>\n",
              "      <td>3</td>\n",
              "      <td>200</td>\n",
              "      <td>1880</td>\n",
              "      <td>44</td>\n",
              "      <td>1</td>\n",
              "      <td>2</td>\n",
              "      <td>2</td>\n",
              "      <td>0</td>\n",
              "      <td>2</td>\n",
              "      <td>...</td>\n",
              "      <td>0</td>\n",
              "      <td>0</td>\n",
              "      <td>0</td>\n",
              "      <td>3</td>\n",
              "      <td>7</td>\n",
              "      <td>6</td>\n",
              "      <td>4</td>\n",
              "      <td>5</td>\n",
              "      <td>-76.3964</td>\n",
              "      <td>42.9142</td>\n",
              "    </tr>\n",
              "  </tbody>\n",
              "</table>\n",
              "<p>5 rows × 58 columns</p>\n",
              "</div>"
            ],
            "text/plain": [
              "   1   2    3     4   5   6   7   8   9   10   ...     49  50  51  52  53  54  \\\n",
              "0   2   3    1  1620  26   4   1   2   4   5   ...      0   0   0   5   5   7   \n",
              "1   2   3  200  1720  38   3   2   1   0   2   ...      0   0   1   2   6   6   \n",
              "2   2   3  120  1750  26   3   3   1   0   3   ...      0   0   0   4   5   7   \n",
              "3   1   3  200  1850  39   0   1   2   0   2   ...      1   0   0   1   5   6   \n",
              "4   1   3  200  1880  44   1   2   2   0   2   ...      0   0   0   3   7   6   \n",
              "\n",
              "   55  56        57       58  \n",
              "0   5   6 -117.9970  33.8005  \n",
              "1   6   5  -73.8584  40.8424  \n",
              "2   5   5  -98.4992  29.6647  \n",
              "3   4   3  -72.4706  42.1729  \n",
              "4   4   5  -76.3964  42.9142  \n",
              "\n",
              "[5 rows x 58 columns]"
            ]
          },
          "metadata": {
            "tags": []
          },
          "execution_count": 5
        }
      ]
    },
    {
      "metadata": {
        "id": "U_VWAEynSN3i",
        "colab_type": "code",
        "outputId": "86c80242-a49f-4d75-8c4f-32be20557965",
        "colab": {
          "base_uri": "https://localhost:8080/",
          "height": 204
        }
      },
      "cell_type": "code",
      "source": [
        "training_labels.head()"
      ],
      "execution_count": 0,
      "outputs": [
        {
          "output_type": "execute_result",
          "data": {
            "text/html": [
              "<div>\n",
              "<style scoped>\n",
              "    .dataframe tbody tr th:only-of-type {\n",
              "        vertical-align: middle;\n",
              "    }\n",
              "\n",
              "    .dataframe tbody tr th {\n",
              "        vertical-align: top;\n",
              "    }\n",
              "\n",
              "    .dataframe thead th {\n",
              "        text-align: right;\n",
              "    }\n",
              "</style>\n",
              "<table border=\"1\" class=\"dataframe\">\n",
              "  <thead>\n",
              "    <tr style=\"text-align: right;\">\n",
              "      <th></th>\n",
              "      <th>0</th>\n",
              "      <th>1</th>\n",
              "      <th>2</th>\n",
              "    </tr>\n",
              "  </thead>\n",
              "  <tbody>\n",
              "    <tr>\n",
              "      <th>0</th>\n",
              "      <td>1</td>\n",
              "      <td>7</td>\n",
              "      <td>11883</td>\n",
              "    </tr>\n",
              "    <tr>\n",
              "      <th>1</th>\n",
              "      <td>1</td>\n",
              "      <td>7</td>\n",
              "      <td>257487</td>\n",
              "    </tr>\n",
              "    <tr>\n",
              "      <th>2</th>\n",
              "      <td>0</td>\n",
              "      <td>7</td>\n",
              "      <td>239226</td>\n",
              "    </tr>\n",
              "    <tr>\n",
              "      <th>3</th>\n",
              "      <td>0</td>\n",
              "      <td>7</td>\n",
              "      <td>82094</td>\n",
              "    </tr>\n",
              "    <tr>\n",
              "      <th>4</th>\n",
              "      <td>0</td>\n",
              "      <td>7</td>\n",
              "      <td>226461</td>\n",
              "    </tr>\n",
              "  </tbody>\n",
              "</table>\n",
              "</div>"
            ],
            "text/plain": [
              "   0  1       2\n",
              "0  1  7   11883\n",
              "1  1  7  257487\n",
              "2  0  7  239226\n",
              "3  0  7   82094\n",
              "4  0  7  226461"
            ]
          },
          "metadata": {
            "tags": []
          },
          "execution_count": 6
        }
      ]
    },
    {
      "metadata": {
        "id": "0mYFFvvynEg6",
        "colab_type": "code",
        "outputId": "ccf4f820-c47c-4744-ec7d-12887433a9ee",
        "colab": {
          "base_uri": "https://localhost:8080/",
          "height": 51
        }
      },
      "cell_type": "code",
      "source": [
        "# match(1) or not(0) ,  user_id1, userid2\n",
        "##########################################\n",
        "# user_item_matrix\n",
        "# CROP LABEL DATASET for user_ID < 10000\n",
        "\n",
        "crop = 1001\n",
        "\n",
        "print(training_labels.shape,testing_labels.shape)\n",
        "\n",
        "train_lab = pd.DataFrame(columns=[\"match\",\"user1\",\"user2\"])\n",
        "test_lab = pd.DataFrame(columns=[\"match\",\"user1\",\"user2\"])\n",
        "\n",
        "for i in range(len(training_labels)):\n",
        "  if(training_labels.iloc[i,1] < crop and training_labels.iloc[i,2] < crop):\n",
        "    train_lab = train_lab.append({\"match\" : training_labels.iloc[i,0],\"user1\":training_labels.iloc[i,1],\"user2\":training_labels.iloc[i,2]},ignore_index=True)\n",
        "  \n",
        "for i in range(len(testing_labels)):\n",
        "  if(testing_labels.iloc[i,1] < crop and testing_labels.iloc[i,2] < crop):\n",
        "    test_lab = test_lab.append({\"match\" : testing_labels.iloc[i,0],\"user1\":testing_labels.iloc[i,1],\"user2\":testing_labels.iloc[i,2]},ignore_index=True)\n",
        "\n",
        "print(train_lab.shape, test_lab.shape)\n",
        "    \n",
        "\n"
      ],
      "execution_count": 0,
      "outputs": [
        {
          "output_type": "stream",
          "text": [
            "((506688, 3), (439161, 3))\n",
            "((289, 3), (552, 3))\n"
          ],
          "name": "stdout"
        }
      ]
    },
    {
      "metadata": {
        "id": "SmcMgIE8D6vI",
        "colab_type": "code",
        "colab": {}
      },
      "cell_type": "code",
      "source": [
        "crop = 1000\n",
        "train_labn = [ [0] * crop for _ in range(crop)]\n",
        "\n",
        "for i in range(train_lab.shape[0]):\n",
        "  print(i,train_lab.iloc[i,1],train_lab.iloc[i,2],train_lab.iloc[i,0])\n",
        "  train_labn[train_lab.iloc[i,1]][train_lab.iloc[i,2]] = train_lab.iloc[i,0]\n",
        "  train_labn[train_lab.iloc[i,2]][train_lab.iloc[i,1]] = train_lab.iloc[i,0]\n",
        "print(train_labn)  "
      ],
      "execution_count": 0,
      "outputs": []
    },
    {
      "metadata": {
        "id": "JNP06LVX1kfJ",
        "colab_type": "code",
        "outputId": "7f626289-8b2a-4c87-cb8d-3b9b33fce127",
        "colab": {
          "base_uri": "https://localhost:8080/",
          "height": 187
        }
      },
      "cell_type": "code",
      "source": [
        "for i in range(285,train_lab.shape[0]):\n",
        "  print(i,train_lab.iloc[i,1],train_lab.iloc[i,2],train_lab.iloc[i,0])\n",
        "  train_labn[train_lab.iloc[i,1]][train_lab.iloc[i,2]] = train_lab.iloc[i,0]\n",
        "  train_labn[train_lab.iloc[i,2]][train_lab.iloc[i,1]] = train_lab.iloc[i,0]\n",
        "print(train_labn)"
      ],
      "execution_count": 0,
      "outputs": [
        {
          "output_type": "stream",
          "text": [
            "IOPub data rate exceeded.\n",
            "The notebook server will temporarily stop sending output\n",
            "to the client in order to avoid crashing it.\n",
            "To change this limit, set the config variable\n",
            "`--NotebookApp.iopub_data_rate_limit`.\n",
            "\n",
            "Current values:\n",
            "NotebookApp.iopub_data_rate_limit=1000000.0 (bytes/sec)\n",
            "NotebookApp.rate_limit_window=3.0 (secs)\n",
            "\n"
          ],
          "name": "stderr"
        }
      ]
    },
    {
      "metadata": {
        "id": "W4GFre2Vax8q",
        "colab_type": "code",
        "colab": {}
      },
      "cell_type": "code",
      "source": [
        "for i in range(len(train_labn)):\n",
        "  if(max(train_labn[i])>0):\n",
        "    print(i)"
      ],
      "execution_count": 0,
      "outputs": []
    },
    {
      "metadata": {
        "id": "aKOhb4-VPgRx",
        "colab_type": "code",
        "colab": {}
      },
      "cell_type": "code",
      "source": [
        "import pickle\n",
        "item_user = open('item_user.pkl', 'wb')\n",
        "pickle.dump(train_labn,item_user)\n",
        "item_user.close()\n",
        "# mydict2 = pickle.load(pkl_file)"
      ],
      "execution_count": 0,
      "outputs": []
    },
    {
      "metadata": {
        "id": "f1ndq7aBbjnO",
        "colab_type": "code",
        "colab": {}
      },
      "cell_type": "code",
      "source": [
        ""
      ],
      "execution_count": 0,
      "outputs": []
    },
    {
      "metadata": {
        "id": "Iq6yARHdI07n",
        "colab_type": "text"
      },
      "cell_type": "markdown",
      "source": [
        " ## train_labn-> ITEM*USER MATRIX\n",
        " ## train_data -> item*item matrix\n",
        " "
      ]
    },
    {
      "metadata": {
        "id": "5Q5XByBmIccN",
        "colab_type": "code",
        "colab": {}
      },
      "cell_type": "code",
      "source": [
        "print(training_data[1],len(train_labn[0]))"
      ],
      "execution_count": 0,
      "outputs": []
    },
    {
      "metadata": {
        "id": "z173MuJPUlBa",
        "colab_type": "code",
        "outputId": "bd431bd3-e272-4a49-eaf4-0fba2a1d3d26",
        "colab": {
          "base_uri": "https://localhost:8080/",
          "height": 493
        }
      },
      "cell_type": "code",
      "source": [
        "# user  *  item \n",
        "from sklearn.metrics.pairwise import cosine_similarity\n",
        "print(training_data.shape)\n",
        "# user1 *  user2\n",
        "training_data = training_data.values\n",
        "\n",
        "print(training_data[1].reshape(1,-1))\n",
        "cosa = cosine_similarity(training_data[1].reshape(1, -1), training_data[3].reshape(1, -1))\n",
        "print(training_data[1].reshape(1, -1), cosa)"
      ],
      "execution_count": 0,
      "outputs": [
        {
          "output_type": "stream",
          "text": [
            "(1001, 58)\n",
            "[[ 2.00000e+00  3.00000e+00  2.00000e+02  1.72000e+03  3.80000e+01\n",
            "   3.00000e+00  2.00000e+00  1.00000e+00  0.00000e+00  2.00000e+00\n",
            "   5.00000e+00  1.00000e+00  0.00000e+00  0.00000e+00  3.99000e+02\n",
            "   5.10000e+01  3.50000e+01  0.00000e+00  4.00000e+00  4.00000e+00\n",
            "   3.00000e+00  6.00000e+00  1.00000e+00  2.00000e+00  4.10000e+01\n",
            "   0.00000e+00  0.00000e+00  0.00000e+00  0.00000e+00  0.00000e+00\n",
            "   0.00000e+00  0.00000e+00  0.00000e+00  0.00000e+00  0.00000e+00\n",
            "   0.00000e+00  0.00000e+00  0.00000e+00  0.00000e+00  0.00000e+00\n",
            "   0.00000e+00  1.00000e+00  0.00000e+00  0.00000e+00  0.00000e+00\n",
            "   0.00000e+00  0.00000e+00  0.00000e+00  0.00000e+00  0.00000e+00\n",
            "   1.00000e+00  2.00000e+00  6.00000e+00  6.00000e+00  6.00000e+00\n",
            "   5.00000e+00 -7.38584e+01  4.08424e+01]]\n",
            "(array([[ 2.00000e+00,  3.00000e+00,  2.00000e+02,  1.72000e+03,\n",
            "         3.80000e+01,  3.00000e+00,  2.00000e+00,  1.00000e+00,\n",
            "         0.00000e+00,  2.00000e+00,  5.00000e+00,  1.00000e+00,\n",
            "         0.00000e+00,  0.00000e+00,  3.99000e+02,  5.10000e+01,\n",
            "         3.50000e+01,  0.00000e+00,  4.00000e+00,  4.00000e+00,\n",
            "         3.00000e+00,  6.00000e+00,  1.00000e+00,  2.00000e+00,\n",
            "         4.10000e+01,  0.00000e+00,  0.00000e+00,  0.00000e+00,\n",
            "         0.00000e+00,  0.00000e+00,  0.00000e+00,  0.00000e+00,\n",
            "         0.00000e+00,  0.00000e+00,  0.00000e+00,  0.00000e+00,\n",
            "         0.00000e+00,  0.00000e+00,  0.00000e+00,  0.00000e+00,\n",
            "         0.00000e+00,  1.00000e+00,  0.00000e+00,  0.00000e+00,\n",
            "         0.00000e+00,  0.00000e+00,  0.00000e+00,  0.00000e+00,\n",
            "         0.00000e+00,  0.00000e+00,  1.00000e+00,  2.00000e+00,\n",
            "         6.00000e+00,  6.00000e+00,  6.00000e+00,  5.00000e+00,\n",
            "        -7.38584e+01,  4.08424e+01]]), array([[0.99604453]]))\n"
          ],
          "name": "stdout"
        }
      ]
    },
    {
      "metadata": {
        "id": "6MZE03-BYd6E",
        "colab_type": "code",
        "colab": {}
      },
      "cell_type": "code",
      "source": [
        "# user * user\n",
        "import pickle\n",
        "from sklearn.metrics.pairwise import cosine_similarity\n",
        "item_er = open('user_user_sim.pkl', 'wb')\n",
        "train_data = [ [0] * crop for _ in range(crop)]\n",
        "# training_data = training_data.values\n",
        "for i in range(crop):\n",
        "  if(i%500 == 0):\n",
        "    pickle.dump(train_data,item_er)\n",
        "  for j in range(crop):\n",
        "    if(train_data[i][j] == 0):\n",
        "      cos = cosine_similarity(training_data[i].reshape(1, -1), training_data[j].reshape(1, -1))\n",
        "#       print(cos)\n",
        "      train_data[i][j] = cos\n",
        "      train_data[j][i] = cos\n",
        "# print(train_data.shape)"
      ],
      "execution_count": 0,
      "outputs": []
    },
    {
      "metadata": {
        "id": "HCl81q4Peu4t",
        "colab_type": "code",
        "colab": {}
      },
      "cell_type": "code",
      "source": [
        "for i in range(50):\n",
        "  print(train_data[i])"
      ],
      "execution_count": 0,
      "outputs": []
    },
    {
      "metadata": {
        "id": "TtqNB_9iSHSF",
        "colab_type": "code",
        "colab": {}
      },
      "cell_type": "code",
      "source": [
        "import pickle\n",
        "item_er = open('user_user_sim.pkl', 'wb')\n",
        "pickle.dump(train_data,item_er)\n",
        "item_er.close()"
      ],
      "execution_count": 0,
      "outputs": []
    },
    {
      "metadata": {
        "id": "ty1xch-KjJcw",
        "colab_type": "code",
        "colab": {}
      },
      "cell_type": "code",
      "source": [
        "with open('item_item.txt', 'w') as output:\n",
        "    output.write(str(train_data))"
      ],
      "execution_count": 0,
      "outputs": []
    },
    {
      "metadata": {
        "id": "777jacA2c-K2",
        "colab_type": "code",
        "colab": {}
      },
      "cell_type": "code",
      "source": [
        "with open('user_item.txt', 'w') as output:\n",
        "    output.write(str(train_labn))"
      ],
      "execution_count": 0,
      "outputs": []
    },
    {
      "metadata": {
        "id": "AdoOXyVnNNlj",
        "colab_type": "code",
        "colab": {}
      },
      "cell_type": "code",
      "source": [
        "# item * item\n",
        "  \n",
        "test_data = pd.DataFrame(columns=[\"match\",\"user1\",\"user2\"])\n",
        "\n",
        "for i in test_lab.columns:\n",
        "  for j in test_lab.columns:\n",
        "    cos = cosine_similarity(training_data.iloc[i].reshape(1,-1),training_data.iloc[j].reshape(1,-1))\n",
        "    test_data = test_data.append({\"match\": cos,\"user1\":i,\"user2\":j},ignore_index=True)\n",
        "\n",
        "print(test_data.shape)"
      ],
      "execution_count": 0,
      "outputs": []
    },
    {
      "metadata": {
        "id": "nqMDgRYtmm2F",
        "colab_type": "text"
      },
      "cell_type": "markdown",
      "source": [
        "## Algorithm - PUCPI"
      ]
    },
    {
      "metadata": {
        "id": "pW98rutL8HqX",
        "colab_type": "code",
        "outputId": "72d29328-e5e5-42da-b884-379fad708efa",
        "colab": {
          "base_uri": "https://localhost:8080/",
          "height": 119
        }
      },
      "cell_type": "code",
      "source": [
        "!pip install surprise"
      ],
      "execution_count": 0,
      "outputs": [
        {
          "output_type": "stream",
          "text": [
            "Requirement already satisfied: surprise in /usr/local/lib/python2.7/dist-packages (0.1)\n",
            "Requirement already satisfied: scikit-surprise in /usr/local/lib/python2.7/dist-packages (from surprise) (1.0.6)\n",
            "Requirement already satisfied: scipy>=1.0.0 in /usr/local/lib/python2.7/dist-packages (from scikit-surprise->surprise) (1.1.0)\n",
            "Requirement already satisfied: six>=1.10.0 in /usr/local/lib/python2.7/dist-packages (from scikit-surprise->surprise) (1.11.0)\n",
            "Requirement already satisfied: joblib>=0.11 in /usr/local/lib/python2.7/dist-packages (from scikit-surprise->surprise) (0.13.0)\n",
            "Requirement already satisfied: numpy>=1.11.2 in /usr/local/lib/python2.7/dist-packages (from scikit-surprise->surprise) (1.14.6)\n"
          ],
          "name": "stdout"
        }
      ]
    },
    {
      "metadata": {
        "id": "IF59VUim6_17",
        "colab_type": "code",
        "colab": {}
      },
      "cell_type": "code",
      "source": [
        "import time\n",
        "import scipy.io as sio\n",
        "import numpy as np\n",
        "import random\n",
        "import pandas as pd\n",
        "import math\n",
        "from math import sqrt\n",
        "from pandas import DataFrame\n",
        "from numpy import mean\n",
        "\n",
        "from sklearn import metrics, preprocessing, dummy\n",
        "from sklearn.model_selection import train_test_split, KFold\n",
        "from sklearn.svm import SVC\n",
        "from sklearn.preprocessing import Imputer, MinMaxScaler\n",
        "from sklearn.ensemble import RandomForestClassifier as RF, AdaBoostClassifier as AB\n",
        "from sklearn.cross_validation import cross_val_score as CV, StratifiedShuffleSplit\n",
        "from sklearn.metrics import mean_squared_error, mean_absolute_error, accuracy_score, confusion_matrix\n",
        "\n",
        "\n",
        "from operator import itemgetter\n",
        "from surprise import Reader\n",
        "from surprise import SVD\n",
        "from surprise import Dataset\n",
        "from surprise.model_selection import cross_validate\n",
        "from surprise import NormalPredictor"
      ],
      "execution_count": 0,
      "outputs": []
    },
    {
      "metadata": {
        "id": "7zIATqEu7rW1",
        "colab_type": "code",
        "colab": {}
      },
      "cell_type": "code",
      "source": [
        "train1 = ['rating', 'user1', 'user2']\n",
        "train_label = pd.read_csv('EH-training-labels.csv', sep=',', names=train1, encoding='latin-1', header = None)\n",
        "test1 = ['rating', 'user1', 'user2']\n",
        "test_label = pd.read_csv('EH-testing-labels.csv', sep=',', names=test1, encoding='latin-1', header = None)"
      ],
      "execution_count": 0,
      "outputs": []
    },
    {
      "metadata": {
        "id": "s1hdc7n_77l6",
        "colab_type": "code",
        "colab": {}
      },
      "cell_type": "code",
      "source": [
        "train_features = pd.read_csv('EH-training-data.csv', sep=',', encoding='latin-1', header = None)\n",
        "test_features = pd.read_csv('EH-testing-data.csv', sep=',', encoding='latin-1', header = None)"
      ],
      "execution_count": 0,
      "outputs": []
    },
    {
      "metadata": {
        "id": "E1V5sjxZ7_TG",
        "colab_type": "code",
        "colab": {}
      },
      "cell_type": "code",
      "source": [
        "df = pd.DataFrame(train_label)\n",
        "\n",
        "# A reader is still needed but only the rating_scale param is requiered.\n",
        "reader = Reader(rating_scale=(0, 1))\n",
        "train1 = ['user1', 'user2', 'rating']\n",
        "df = df[train1]\n",
        "# The columns must correspond to user id, item id and ratings (in that order).\n",
        "data = Dataset.load_from_df(df[['user1', 'user2', 'rating']], reader)"
      ],
      "execution_count": 0,
      "outputs": []
    },
    {
      "metadata": {
        "id": "9-IPCO5g7AfM",
        "colab_type": "code",
        "colab": {}
      },
      "cell_type": "code",
      "source": [
        "s0 = [train_label.iloc[0,0]]\n",
        "s0.extend(train_features.iloc[train_label.iloc[0,1] - 1, 1:].tolist())\n",
        "s0.extend(train_features.iloc[train_label.iloc[0,2] - 1, 1:].tolist())\n",
        "data = [s0]\n",
        "train = pd.DataFrame(data)\n",
        "ltrain = [0]\n",
        "for j in range(1, 30000):\n",
        "  t = 0\n",
        "  while(t!=1):\n",
        "    d = random.randint(1, len(train_label))\n",
        "    if d not in ltrain:\n",
        "      t = 1\n",
        "      i = d\n",
        "  s0 = [train_label.iloc[i,0]]\n",
        "  s0.extend(train_features.iloc[train_label.iloc[i,1] - 1, 1:].tolist())\n",
        "  s0.extend(train_features.iloc[train_label.iloc[i,2] - 1, 1:].tolist())\n",
        "  data = [s0]\n",
        "  train = train.append(data)"
      ],
      "execution_count": 0,
      "outputs": []
    },
    {
      "metadata": {
        "id": "OVn8TzD59ALW",
        "colab_type": "code",
        "colab": {}
      },
      "cell_type": "code",
      "source": [
        "s0 = [test_label.iloc[0,0]]\n",
        "s0.extend(test_features.iloc[test_label.iloc[0,1] - 1, 1:].tolist())\n",
        "s0.extend(test_features.iloc[test_label.iloc[0,2] - 1, 1:].tolist())\n",
        "data = [s0]\n",
        "test = pd.DataFrame(data)\n",
        "ltrain = [0]\n",
        "for j in range(1, 30000):\n",
        "  t = 0\n",
        "  while(t!=1):\n",
        "    d = random.randint(1, len(test_label))\n",
        "    if d not in ltrain:\n",
        "      t = 1\n",
        "      i = d\n",
        "  s0 = [test_label.iloc[i,0]]\n",
        "  s0.extend(test_features.iloc[test_label.iloc[i,1] - 1, 1:].tolist())\n",
        "  s0.extend(test_features.iloc[test_label.iloc[i,2] - 1, 1:].tolist())\n",
        "  data = [s0]\n",
        "  test = test.append(data)"
      ],
      "execution_count": 0,
      "outputs": []
    },
    {
      "metadata": {
        "id": "ED-xix19PcxD",
        "colab_type": "code",
        "colab": {}
      },
      "cell_type": "code",
      "source": [
        "train_y = train.iloc[:,0]\n",
        "train = train.iloc[:,1:]\n",
        "test = test.dropna()\n",
        "test_y = test.iloc[:,0]\n",
        "test = test.iloc[:,1:]\n",
        "\n",
        "from sklearn.svm import SVC\n",
        "clf = SVC(gamma='auto')\n",
        "clf.fit(train, train_y) \n",
        "\n",
        "pred = clf.predict(test)"
      ],
      "execution_count": 0,
      "outputs": []
    },
    {
      "metadata": {
        "id": "ciyESp0yXWfx",
        "colab_type": "code",
        "outputId": "2faa9d12-b125-459f-c728-8236eaf0ed4f",
        "colab": {
          "base_uri": "https://localhost:8080/",
          "height": 34
        }
      },
      "cell_type": "code",
      "source": [
        "pred.shape "
      ],
      "execution_count": 0,
      "outputs": [
        {
          "output_type": "execute_result",
          "data": {
            "text/plain": [
              "(30000,)"
            ]
          },
          "metadata": {
            "tags": []
          },
          "execution_count": 71
        }
      ]
    },
    {
      "metadata": {
        "id": "FE_OwY1tXHJ-",
        "colab_type": "code",
        "outputId": "821cf641-7327-4ec3-c06c-299083a5866a",
        "colab": {
          "base_uri": "https://localhost:8080/",
          "height": 34
        }
      },
      "cell_type": "code",
      "source": [
        "test_y.shape"
      ],
      "execution_count": 0,
      "outputs": [
        {
          "output_type": "execute_result",
          "data": {
            "text/plain": [
              "(30000,)"
            ]
          },
          "metadata": {
            "tags": []
          },
          "execution_count": 72
        }
      ]
    },
    {
      "metadata": {
        "id": "kZjJCl78fY0C",
        "colab_type": "text"
      },
      "cell_type": "markdown",
      "source": [
        "### AUC: 0.5"
      ]
    },
    {
      "metadata": {
        "id": "qzHQV6BlXtrd",
        "colab_type": "code",
        "outputId": "ae347296-313f-48d5-e21a-69abed377750",
        "colab": {
          "base_uri": "https://localhost:8080/",
          "height": 34
        }
      },
      "cell_type": "code",
      "source": [
        "from sklearn.metrics import accuracy_score\n",
        "from sklearn.metrics import auc\n",
        "from sklearn import metrics\n",
        "# accuracy_score(test_y,pred)\n",
        "fpr, tpr, thresholds = metrics.roc_curve(test_y, pred)\n",
        "auc_score = auc(fpr,tpr)\n",
        "print(auc_score)"
      ],
      "execution_count": 0,
      "outputs": [
        {
          "output_type": "stream",
          "text": [
            "0.5\n"
          ],
          "name": "stdout"
        }
      ]
    },
    {
      "metadata": {
        "id": "iYs8qY-N8Cr2",
        "colab_type": "code",
        "colab": {}
      },
      "cell_type": "code",
      "source": [
        ""
      ],
      "execution_count": 0,
      "outputs": []
    }
  ]
}